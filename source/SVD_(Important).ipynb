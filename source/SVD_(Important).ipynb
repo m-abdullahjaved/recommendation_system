{
  "nbformat": 4,
  "nbformat_minor": 0,
  "metadata": {
    "colab": {
      "provenance": []
    },
    "kernelspec": {
      "name": "python3",
      "display_name": "Python 3"
    },
    "language_info": {
      "name": "python"
    }
  },
  "cells": [
    {
      "cell_type": "code",
      "execution_count": 1,
      "metadata": {
        "colab": {
          "base_uri": "https://localhost:8080/"
        },
        "id": "WRQ_kbV4Cn-0",
        "outputId": "af14f7c6-1c50-4a63-88ec-772994cc9fc5"
      },
      "outputs": [
        {
          "output_type": "stream",
          "name": "stdout",
          "text": [
            "Requirement already satisfied: numpy in /usr/local/lib/python3.10/dist-packages (1.25.2)\n",
            "Requirement already satisfied: pandas in /usr/local/lib/python3.10/dist-packages (2.0.3)\n",
            "Requirement already satisfied: scikit-learn in /usr/local/lib/python3.10/dist-packages (1.2.2)\n",
            "Collecting surprise\n",
            "  Downloading surprise-0.1-py2.py3-none-any.whl (1.8 kB)\n",
            "Requirement already satisfied: python-dateutil>=2.8.2 in /usr/local/lib/python3.10/dist-packages (from pandas) (2.8.2)\n",
            "Requirement already satisfied: pytz>=2020.1 in /usr/local/lib/python3.10/dist-packages (from pandas) (2023.4)\n",
            "Requirement already satisfied: tzdata>=2022.1 in /usr/local/lib/python3.10/dist-packages (from pandas) (2024.1)\n",
            "Requirement already satisfied: scipy>=1.3.2 in /usr/local/lib/python3.10/dist-packages (from scikit-learn) (1.11.4)\n",
            "Requirement already satisfied: joblib>=1.1.1 in /usr/local/lib/python3.10/dist-packages (from scikit-learn) (1.4.2)\n",
            "Requirement already satisfied: threadpoolctl>=2.0.0 in /usr/local/lib/python3.10/dist-packages (from scikit-learn) (3.5.0)\n",
            "Collecting scikit-surprise (from surprise)\n",
            "  Downloading scikit-surprise-1.1.3.tar.gz (771 kB)\n",
            "\u001b[2K     \u001b[90m━━━━━━━━━━━━━━━━━━━━━━━━━━━━━━━━━━━━━━━━\u001b[0m \u001b[32m772.0/772.0 kB\u001b[0m \u001b[31m7.4 MB/s\u001b[0m eta \u001b[36m0:00:00\u001b[0m\n",
            "\u001b[?25h  Preparing metadata (setup.py) ... \u001b[?25l\u001b[?25hdone\n",
            "Requirement already satisfied: six>=1.5 in /usr/local/lib/python3.10/dist-packages (from python-dateutil>=2.8.2->pandas) (1.16.0)\n",
            "Building wheels for collected packages: scikit-surprise\n",
            "  Building wheel for scikit-surprise (setup.py) ... \u001b[?25l\u001b[?25hdone\n",
            "  Created wheel for scikit-surprise: filename=scikit_surprise-1.1.3-cp310-cp310-linux_x86_64.whl size=3163012 sha256=3c49617a6365b2af1e506737de15cae90aa9c462d5b572297b9b1f3c38ee9a02\n",
            "  Stored in directory: /root/.cache/pip/wheels/a5/ca/a8/4e28def53797fdc4363ca4af740db15a9c2f1595ebc51fb445\n",
            "Successfully built scikit-surprise\n",
            "Installing collected packages: scikit-surprise, surprise\n",
            "Successfully installed scikit-surprise-1.1.3 surprise-0.1\n"
          ]
        }
      ],
      "source": [
        "!pip install numpy pandas scikit-learn surprise"
      ]
    },
    {
      "cell_type": "code",
      "source": [
        "import pandas as pd\n",
        "from surprise import Dataset, Reader\n",
        "import numpy as np\n",
        "from surprise import SVD, Dataset, Reader\n",
        "from surprise.model_selection import cross_validate, train_test_split\n",
        "from surprise.accuracy import rmse, mae\n"
      ],
      "metadata": {
        "id": "UawPJ3qqCywY"
      },
      "execution_count": 3,
      "outputs": []
    },
    {
      "cell_type": "code",
      "source": [
        "# Assuming the data is in 'ratings.dat' and the delimiter is '::'\n",
        "file_path = '/content/drive/MyDrive/ml-1m/ratings.dat'\n",
        "reader = Reader(line_format='user item rating timestamp', sep='::', skip_lines=0)\n",
        "data = Dataset.load_from_file(file_path, reader=reader)"
      ],
      "metadata": {
        "id": "aTFxS7ieDNDb"
      },
      "execution_count": 4,
      "outputs": []
    },
    {
      "cell_type": "code",
      "source": [
        "# Split the data into training and test set\n",
        "trainset, testset = train_test_split(data, test_size=0.25)\n",
        "\n",
        "# Define the SVD algorithm\n",
        "algo = SVD()\n",
        "\n",
        "# Train the algorithm on the training set\n",
        "algo.fit(trainset)\n",
        "\n",
        "# Test the algorithm on the test set\n",
        "predictions = algo.test(testset)\n",
        "\n",
        "# Calculate RMSE and MAE using Surprise's built-in functions\n",
        "rmse_value = rmse(predictions)\n",
        "mae_value = mae(predictions)\n",
        "\n",
        "# Custom function to calculate MSE and MAPE\n",
        "def mse(predictions):\n",
        "    return np.mean([(true_r - est) ** 2 for (_, _, true_r, est, _) in predictions])\n",
        "\n",
        "def mape(predictions):\n",
        "    return np.mean([abs(true_r - est) / true_r for (_, _, true_r, est, _) in predictions if true_r != 0]) * 100\n",
        "\n",
        "# Calculate MSE and MAPE\n",
        "mse_value = mse(predictions)\n",
        "mape_value = mape(predictions)\n",
        "\n",
        "# Print the results\n",
        "print(f'RMSE: {rmse_value}')\n",
        "print(f'MAE: {mae_value}')\n",
        "print(f'MSE: {mse_value}')\n",
        "print(f'MAPE: {mape_value}')\n"
      ],
      "metadata": {
        "colab": {
          "base_uri": "https://localhost:8080/"
        },
        "id": "VEtxoJupDFxX",
        "outputId": "e2b31530-4c98-4c93-86ff-787b7d9d7856"
      },
      "execution_count": 5,
      "outputs": [
        {
          "output_type": "stream",
          "name": "stdout",
          "text": [
            "RMSE: 0.8773\n",
            "MAE:  0.6888\n",
            "RMSE: 0.8773270142633165\n",
            "MAE: 0.6887664731988328\n",
            "MSE: 0.7697026899561856\n",
            "MAPE: 26.583466977839805\n"
          ]
        }
      ]
    },
    {
      "cell_type": "code",
      "source": [],
      "metadata": {
        "id": "uTEd4IHbDT-5"
      },
      "execution_count": null,
      "outputs": []
    }
  ]
}